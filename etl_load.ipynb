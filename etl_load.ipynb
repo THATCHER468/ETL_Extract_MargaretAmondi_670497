{
 "cells": [
  {
   "cell_type": "code",
   "execution_count": null,
   "id": "79b63ba0",
   "metadata": {},
   "outputs": [],
   "source": [
    "import pandas as pd #import library\n",
    "\n",
    "#import data\n",
    "\n",
    "full_data = pd.read_csv('transformed_full.csv')\n",
    "incremental_data = pd.read_csv('transformed_incremental.csv')\n"
   ]
  },
  {
   "cell_type": "code",
   "execution_count": null,
   "id": "517bf8d7",
   "metadata": {},
   "outputs": [],
   "source": [
    "#save to parquet format and in the subfolder\n",
    "\n",
    "full_data.to_parquet('loaded_data/full_data.parquet', index=False)\n",
    "incremental_data.to_parquet('loaded_data/incremental_data.parquet', index=False)\n"
   ]
  },
  {
   "cell_type": "code",
   "execution_count": 6,
   "id": "81816558",
   "metadata": {},
   "outputs": [
    {
     "data": {
      "text/html": [
       "<div>\n",
       "<style scoped>\n",
       "    .dataframe tbody tr th:only-of-type {\n",
       "        vertical-align: middle;\n",
       "    }\n",
       "\n",
       "    .dataframe tbody tr th {\n",
       "        vertical-align: top;\n",
       "    }\n",
       "\n",
       "    .dataframe thead th {\n",
       "        text-align: right;\n",
       "    }\n",
       "</style>\n",
       "<table border=\"1\" class=\"dataframe\">\n",
       "  <thead>\n",
       "    <tr style=\"text-align: right;\">\n",
       "      <th></th>\n",
       "      <th>transaction_id</th>\n",
       "      <th>sale_date</th>\n",
       "      <th>product</th>\n",
       "      <th>quantity</th>\n",
       "      <th>price</th>\n",
       "      <th>total_price</th>\n",
       "      <th>price_category</th>\n",
       "    </tr>\n",
       "  </thead>\n",
       "  <tbody>\n",
       "    <tr>\n",
       "      <th>0</th>\n",
       "      <td>TX001</td>\n",
       "      <td>2025-06-16</td>\n",
       "      <td>Headphones</td>\n",
       "      <td>3</td>\n",
       "      <td>184.17</td>\n",
       "      <td>552.51</td>\n",
       "      <td>Medium</td>\n",
       "    </tr>\n",
       "    <tr>\n",
       "      <th>1</th>\n",
       "      <td>TX002</td>\n",
       "      <td>2025-06-13</td>\n",
       "      <td>Phone</td>\n",
       "      <td>4</td>\n",
       "      <td>27.89</td>\n",
       "      <td>111.56</td>\n",
       "      <td>Low</td>\n",
       "    </tr>\n",
       "    <tr>\n",
       "      <th>2</th>\n",
       "      <td>TX003</td>\n",
       "      <td>2025-06-17</td>\n",
       "      <td>Laptop</td>\n",
       "      <td>4</td>\n",
       "      <td>498.95</td>\n",
       "      <td>1995.80</td>\n",
       "      <td>Medium</td>\n",
       "    </tr>\n",
       "    <tr>\n",
       "      <th>3</th>\n",
       "      <td>TX004</td>\n",
       "      <td>2025-06-14</td>\n",
       "      <td>Charger</td>\n",
       "      <td>1</td>\n",
       "      <td>187.03</td>\n",
       "      <td>187.03</td>\n",
       "      <td>Medium</td>\n",
       "    </tr>\n",
       "    <tr>\n",
       "      <th>4</th>\n",
       "      <td>TX005</td>\n",
       "      <td>2025-06-16</td>\n",
       "      <td>Tablet</td>\n",
       "      <td>1</td>\n",
       "      <td>372.80</td>\n",
       "      <td>372.80</td>\n",
       "      <td>Medium</td>\n",
       "    </tr>\n",
       "  </tbody>\n",
       "</table>\n",
       "</div>"
      ],
      "text/plain": [
       "  transaction_id   sale_date     product  quantity   price  total_price  \\\n",
       "0          TX001  2025-06-16  Headphones         3  184.17       552.51   \n",
       "1          TX002  2025-06-13       Phone         4   27.89       111.56   \n",
       "2          TX003  2025-06-17      Laptop         4  498.95      1995.80   \n",
       "3          TX004  2025-06-14     Charger         1  187.03       187.03   \n",
       "4          TX005  2025-06-16      Tablet         1  372.80       372.80   \n",
       "\n",
       "  price_category  \n",
       "0         Medium  \n",
       "1            Low  \n",
       "2         Medium  \n",
       "3         Medium  \n",
       "4         Medium  "
      ]
     },
     "execution_count": 6,
     "metadata": {},
     "output_type": "execute_result"
    }
   ],
   "source": [
    "#preview the stored parquet\n",
    "\n",
    "preview = pd.read_parquet('loaded_data/full_data.parquet')\n",
    "preview.head()\n"
   ]
  }
 ],
 "metadata": {
  "kernelspec": {
   "display_name": "Python 3",
   "language": "python",
   "name": "python3"
  },
  "language_info": {
   "codemirror_mode": {
    "name": "ipython",
    "version": 3
   },
   "file_extension": ".py",
   "mimetype": "text/x-python",
   "name": "python",
   "nbconvert_exporter": "python",
   "pygments_lexer": "ipython3",
   "version": "3.11.9"
  }
 },
 "nbformat": 4,
 "nbformat_minor": 5
}
