{
 "cells": [
  {
   "cell_type": "code",
   "execution_count": 1,
   "id": "62bb4cdf",
   "metadata": {},
   "outputs": [
    {
     "name": "stdout",
     "output_type": "stream",
     "text": [
      "Generated and saved custom_data.csv with 100 records.\n"
     ]
    }
   ],
   "source": [
    "import pandas as pd\n",
    "import numpy as np\n",
    "from datetime import datetime, timedelta\n",
    "import os\n",
    "\n",
    "# Set random seed for reproducibility\n",
    "np.random.seed(42)\n",
    "\n",
    "# Generate synthetic sales data\n",
    "n_records = 100\n",
    "dates = [datetime(2025, 5, 1) + timedelta(days=np.random.randint(0, 40)) for _ in range(n_records)]\n",
    "products = np.random.choice(['Laptop', 'Phone', 'Tablet', 'Headphones', 'Charger'], n_records)\n",
    "quantities = np.random.randint(1, 5, n_records)\n",
    "prices = np.random.uniform(10.0, 1000.0, n_records).round(2)\n",
    "transaction_ids = [f'TX{str(i).zfill(3)}' for i in range(1, n_records + 1)]\n",
    "\n",
    "# Create DataFrame\n",
    "data = pd.DataFrame({\n",
    "    'transaction_id': transaction_ids,\n",
    "    'sale_date': dates,\n",
    "    'product': products,\n",
    "    'quantity': quantities,\n",
    "    'price': prices\n",
    "})\n",
    "\n",
    "# Save to CSV\n",
    "data.to_csv('custom_data.csv', index=False)\n",
    "print(\"Generated and saved custom_data.csv with 100 records.\")"
   ]
  },
  {
   "cell_type": "code",
   "execution_count": 3,
   "id": "4c7759f6",
   "metadata": {},
   "outputs": [
    {
     "name": "stdout",
     "output_type": "stream",
     "text": [
      "=== Full Extraction ===\n",
      "Number of rows: 100\n",
      "Number of columns: 5\n",
      "\n",
      "Sample of the data:\n",
      "  transaction_id  sale_date     product  quantity   price\n",
      "0          TX001 2025-06-08     Charger         3  187.03\n",
      "1          TX002 2025-05-29      Tablet         2  372.80\n",
      "2          TX003 2025-05-15  Headphones         4  746.73\n",
      "3          TX004 2025-05-08      Tablet         1  723.73\n",
      "4          TX005 2025-05-21      Tablet         3  314.98\n",
      "Extracted 100 rows fully.\n"
     ]
    }
   ],
   "source": [
    "# Import necessary libraries\n",
    "import pandas as pd\n",
    "from datetime import datetime\n",
    "import os\n",
    "\n",
    "# Section 1: Full Extraction\n",
    "print(\"=== Full Extraction ===\")\n",
    "# Load the entire dataset\n",
    "df = pd.read_csv('custom_data.csv')\n",
    "df['sale_date'] = pd.to_datetime(df['sale_date'])\n",
    "\n",
    "# Display basic stats\n",
    "print(\"Number of rows:\", df.shape[0])\n",
    "print(\"Number of columns:\", df.shape[1])\n",
    "print(\"\\nSample of the data:\")\n",
    "print(df.head())\n",
    "print(f\"Extracted {df.shape[0]} rows fully.\")\n"
   ]
  },
  {
   "cell_type": "code",
   "execution_count": 4,
   "id": "fa9cd458",
   "metadata": {},
   "outputs": [
    {
     "name": "stdout",
     "output_type": "stream",
     "text": [
      "\n",
      "=== Incremental Extraction ===\n",
      "Last extraction time: 2025-06-09 00:00:00\n",
      "Extracted 0 rows incrementally since last check.\n",
      "No new or updated records found.\n"
     ]
    }
   ],
   "source": [
    "# Section 2: Incremental Extraction\n",
    "print(\"\\n=== Incremental Extraction ===\")\n",
    "# Read or set the last extraction timestamp\n",
    "last_extraction_file = 'last_extraction.txt'\n",
    "if os.path.exists(last_extraction_file):\n",
    "    with open(last_extraction_file, 'r') as f:\n",
    "        last_extraction_time = pd.to_datetime(f.read().strip())\n",
    "else:\n",
    "    # If no prior extraction, use a default early date\n",
    "    last_extraction_time = pd.to_datetime('2025-05-01')\n",
    "print(f\"Last extraction time: {last_extraction_time}\")\n",
    "\n",
    "# Filter for records after the last extraction\n",
    "new_data = df[df['sale_date'] > last_extraction_time]\n",
    "\n",
    "# Display results\n",
    "print(f\"Extracted {new_data.shape[0]} rows incrementally since last check.\")\n",
    "if new_data.shape[0] > 0:\n",
    "    print(\"\\nSample of new or updated records:\")\n",
    "    print(new_data.head())\n",
    "else:\n",
    "    print(\"No new or updated records found.\")"
   ]
  },
  {
   "cell_type": "code",
   "execution_count": 5,
   "id": "8bcc29d3",
   "metadata": {},
   "outputs": [
    {
     "name": "stdout",
     "output_type": "stream",
     "text": [
      "\n",
      "No update to last_extraction.txt needed.\n"
     ]
    }
   ],
   "source": [
    "# Section 3: Save New Timestamp\n",
    "if new_data.shape[0] > 0:\n",
    "    latest_timestamp = df['sale_date'].max()\n",
    "    with open(last_extraction_file, 'w') as f:\n",
    "        f.write(str(latest_timestamp))\n",
    "    print(f\"\\nUpdated last_extraction.txt with new timestamp: {latest_timestamp}\")\n",
    "else:\n",
    "    print(\"\\nNo update to last_extraction.txt needed.\")"
   ]
  }
 ],
 "metadata": {
  "kernelspec": {
   "display_name": "Python 3",
   "language": "python",
   "name": "python3"
  },
  "language_info": {
   "codemirror_mode": {
    "name": "ipython",
    "version": 3
   },
   "file_extension": ".py",
   "mimetype": "text/x-python",
   "name": "python",
   "nbconvert_exporter": "python",
   "pygments_lexer": "ipython3",
   "version": "3.11.9"
  }
 },
 "nbformat": 4,
 "nbformat_minor": 5
}
