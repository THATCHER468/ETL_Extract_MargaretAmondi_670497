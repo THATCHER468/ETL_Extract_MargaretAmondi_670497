{
 "cells": [
  {
   "cell_type": "code",
   "execution_count": 18,
   "id": "62bb4cdf",
   "metadata": {},
   "outputs": [
    {
     "name": "stdout",
     "output_type": "stream",
     "text": [
      "Generated and saved custom_data.csv with 100 records.\n"
     ]
    }
   ],
   "source": [
    "import pandas as pd\n",
    "import numpy as np\n",
    "from datetime import datetime, timedelta\n",
    "import os\n",
    "\n",
    "# Set random seed for reproducibility\n",
    "np.random.seed(42)\n",
    "\n",
    "# Generate synthetic sales data\n",
    "n_records = 100\n",
    "dates = [datetime(2025, 6, 10) + timedelta(days=np.random.randint(0, 10)) for _ in range(n_records)]\n",
    "products = np.random.choice(['Laptop', 'Phone', 'Tablet', 'Headphones', 'Charger'], n_records)\n",
    "quantities = np.random.randint(1, 5, n_records)\n",
    "prices = np.random.uniform(10.0, 1000.0, n_records).round(2)\n",
    "transaction_ids = [f'TX{str(i).zfill(3)}' for i in range(1, n_records + 1)]\n",
    "\n",
    "# Create DataFrame\n",
    "data = pd.DataFrame({\n",
    "    'transaction_id': transaction_ids,\n",
    "    'sale_date': dates,\n",
    "    'product': products,\n",
    "    'quantity': quantities,\n",
    "    'price': prices\n",
    "})\n",
    "\n",
    "# Save to CSV\n",
    "data.to_csv('custom_data.csv', index=False)\n",
    "print(\"Generated and saved custom_data.csv with 100 records.\")"
   ]
  },
  {
   "cell_type": "code",
   "execution_count": 19,
   "id": "4c7759f6",
   "metadata": {},
   "outputs": [
    {
     "name": "stdout",
     "output_type": "stream",
     "text": [
      "=== Full Extraction ===\n",
      "Number of rows: 100\n",
      "Number of columns: 5\n",
      "\n",
      "Sample of the data:\n",
      "  transaction_id  sale_date     product  quantity   price\n",
      "0          TX001 2025-06-16  Headphones         3  184.17\n",
      "1          TX002 2025-06-13       Phone         4   27.89\n",
      "2          TX003 2025-06-17      Laptop         4  498.95\n",
      "3          TX004 2025-06-14     Charger         1  187.03\n",
      "4          TX005 2025-06-16      Tablet         1  372.80\n",
      "Extracted 100 rows fully.\n"
     ]
    }
   ],
   "source": [
    "# Import necessary libraries\n",
    "import pandas as pd\n",
    "from datetime import datetime\n",
    "import os\n",
    "\n",
    "# Section 1: Full Extraction\n",
    "print(\"=== Full Extraction ===\")\n",
    "# Load the entire dataset\n",
    "df = pd.read_csv('custom_data.csv')\n",
    "df['sale_date'] = pd.to_datetime(df['sale_date'])\n",
    "\n",
    "# Display basic stats\n",
    "print(\"Number of rows:\", df.shape[0])\n",
    "print(\"Number of columns:\", df.shape[1])\n",
    "print(\"\\nSample of the data:\")\n",
    "print(df.head())\n",
    "print(f\"Extracted {df.shape[0]} rows fully.\")\n"
   ]
  },
  {
   "cell_type": "code",
   "execution_count": 20,
   "id": "fa9cd458",
   "metadata": {},
   "outputs": [
    {
     "name": "stdout",
     "output_type": "stream",
     "text": [
      "\n",
      "=== Incremental Extraction ===\n",
      "Last extraction time: 2025-06-09 00:00:00\n",
      "Extracted 100 rows incrementally since last check.\n",
      "\n",
      "Sample of new or updated records:\n",
      "  transaction_id  sale_date     product  quantity   price\n",
      "0          TX001 2025-06-16  Headphones         3  184.17\n",
      "1          TX002 2025-06-13       Phone         4   27.89\n",
      "2          TX003 2025-06-17      Laptop         4  498.95\n",
      "3          TX004 2025-06-14     Charger         1  187.03\n",
      "4          TX005 2025-06-16      Tablet         1  372.80\n"
     ]
    }
   ],
   "source": [
    "# Section 2: Incremental Extraction\n",
    "print(\"\\n=== Incremental Extraction ===\")\n",
    "# Read or set the last extraction timestamp\n",
    "last_extraction_file = 'last_extraction.txt'\n",
    "if os.path.exists(last_extraction_file):\n",
    "    with open(last_extraction_file, 'r') as f:\n",
    "        last_extraction_time = pd.to_datetime(f.read().strip())\n",
    "else:\n",
    "    # If no prior extraction, use a default early date\n",
    "    last_extraction_time = pd.to_datetime('2025-05-01')\n",
    "print(f\"Last extraction time: {last_extraction_time}\")\n",
    "\n",
    "# Filter for records after the last extraction\n",
    "new_data = df[df['sale_date'] > last_extraction_time]\n",
    "\n",
    "# Display results\n",
    "print(f\"Extracted {new_data.shape[0]} rows incrementally since last check.\")\n",
    "if new_data.shape[0] > 0:\n",
    "    print(\"\\nSample of new or updated records:\")\n",
    "    print(new_data.head())\n",
    "else:\n",
    "    print(\"No new or updated records found.\")"
   ]
  },
  {
   "cell_type": "code",
   "execution_count": 21,
   "id": "8bcc29d3",
   "metadata": {},
   "outputs": [
    {
     "name": "stdout",
     "output_type": "stream",
     "text": [
      "\n",
      "Updated last_extraction.txt with new timestamp: 2025-06-19 00:00:00\n"
     ]
    }
   ],
   "source": [
    "# Section 3: Save New Timestamp\n",
    "if new_data.shape[0] > 0:\n",
    "    latest_timestamp = df['sale_date'].max()\n",
    "    with open(last_extraction_file, 'w') as f:\n",
    "        f.write(str(latest_timestamp))\n",
    "    print(f\"\\nUpdated last_extraction.txt with new timestamp: {latest_timestamp}\")\n",
    "else:\n",
    "    print(\"\\nNo update to last_extraction.txt needed.\")"
   ]
  },
  {
   "cell_type": "code",
   "execution_count": null,
   "id": "451c9cd9",
   "metadata": {},
   "outputs": [
    {
     "name": "stdout",
     "output_type": "stream",
     "text": [
      "\n",
      "=== Section 4: Transform Full Data ===\n",
      "Saved transformed full dataset to 'transformed_full.csv'.\n"
     ]
    }
   ],
   "source": [
    "print(\"\\n = Section 4: Transform Full Data = \")\n",
    "\n",
    "# Re-load full data (in case df has been filtered)\n",
    "full_data = pd.read_csv('custom_data.csv')\n",
    "full_data['sale_date'] = pd.to_datetime(full_data['sale_date'])\n",
    "\n",
    "# Transformation 1: Cleaning\n",
    "# Remove duplicates (if any)\n",
    "full_data = full_data.drop_duplicates()\n",
    "\n",
    "# Transformation 2: Enrichment\n",
    "# Add total_price = quantity * price\n",
    "full_data['total_price'] = full_data['quantity'] * full_data['price']\n",
    "\n",
    "# Transformation 3: Categorization\n",
    "# Bin price into Low, Medium, High\n",
    "def price_category(price):\n",
    "    if price < 100:\n",
    "        return 'Low'\n",
    "    elif price < 500:\n",
    "        return 'Medium'\n",
    "    else:\n",
    "        return 'High'\n",
    "\n",
    "full_data['price_category'] = full_data['price'].apply(price_category)\n",
    "\n",
    "# Save transformed full dataset\n",
    "full_data.to_csv('transformed_full.csv', index=False)\n",
    "print(\"Saved transformed full dataset to 'transformed_full.csv'.\")\n"
   ]
  },
  {
   "cell_type": "code",
   "execution_count": null,
   "id": "c3adf716",
   "metadata": {},
   "outputs": [
    {
     "name": "stdout",
     "output_type": "stream",
     "text": [
      "\n",
      "=== Section 5: Transform Incremental Data ===\n",
      "Saved transformed incremental dataset to 'transformed_incremental.csv'.\n"
     ]
    }
   ],
   "source": [
    "print(\"\\n= Section 5: Transform Incremental Data =\")\n",
    "\n",
    "if new_data.shape[0] > 0:\n",
    "    # Transformation 1: Cleaning\n",
    "    new_data = new_data.drop_duplicates()\n",
    "\n",
    "    # Transformation 2: Enrichment\n",
    "    new_data['total_price'] = new_data['quantity'] * new_data['price']\n",
    "\n",
    "    # Transformation 3: Categorization\n",
    "    new_data['price_category'] = new_data['price'].apply(price_category)\n",
    "\n",
    "    # Save transformed incremental data\n",
    "    new_data.to_csv('transformed_incremental.csv', index=False)\n",
    "    print(\"Saved transformed incremental dataset to 'transformed_incremental.csv'.\")\n",
    "else:\n",
    "    print(\"No incremental data to transform.\")\n"
   ]
  }
 ],
 "metadata": {
  "kernelspec": {
   "display_name": "Python 3",
   "language": "python",
   "name": "python3"
  },
  "language_info": {
   "codemirror_mode": {
    "name": "ipython",
    "version": 3
   },
   "file_extension": ".py",
   "mimetype": "text/x-python",
   "name": "python",
   "nbconvert_exporter": "python",
   "pygments_lexer": "ipython3",
   "version": "3.11.9"
  }
 },
 "nbformat": 4,
 "nbformat_minor": 5
}
